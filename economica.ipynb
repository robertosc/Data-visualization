{
 "cells": [
  {
   "cell_type": "code",
   "execution_count": 24,
   "metadata": {},
   "outputs": [
    {
     "name": "stdout",
     "output_type": "stream",
     "text": [
      "trimestre 2/2001\n"
     ]
    }
   ],
   "source": [
    "import pandas as pd\n",
    "import matplotlib.pyplot as plt\n",
    "import numpy as np\n",
    "\n",
    "#df = pd.read_csv('balanzapagos.csv')\n",
    "df = pd.read_csv('/mnt/c/Users/rober/OneDrive/Documentos/economica/balanza.csv')\n",
    "\n",
    "#for i in range(1,(len(df.columns)-1)):\n",
    "#    print(df.columns[i])\n",
    "#print(len(df['Dato']))\n",
    "print(df.columns[10])\n"
   ]
  },
  {
   "cell_type": "code",
   "execution_count": null,
   "metadata": {},
   "outputs": [
    {
     "name": "stderr",
     "output_type": "stream",
     "text": [
      "<ipython-input-40-55b04e22a7aa>:9: RuntimeWarning: More than 20 figures have been opened. Figures created through the pyplot interface (`matplotlib.pyplot.figure`) are retained until explicitly closed and may consume too much memory. (To control this warning, see the rcParam `figure.max_open_warning`).\n",
      "  plt.figure(num=None, figsize=(8, 6), dpi=80, facecolor='w', edgecolor='k')\n"
     ]
    }
   ],
   "source": [
    "trimestres = list(df.columns[1:89])\n",
    "#print(trimestres)\n",
    "\n",
    "#df[trimestres[1]][1]\n",
    "for i in range(len(df)):\n",
    "    lista = []\n",
    "    for j in range(85):\n",
    "        lista.append(df[trimestres[j]][i])\n",
    "    plt.figure(num=None, figsize=(8, 6), dpi=80, facecolor='w', edgecolor='k')\n",
    "    plt.grid(alpha=0.5)\n",
    "    plt.xticks(np.arange(0, 85, 4.0))\n",
    "    plt.plot(lista)\n",
    "    plt.title(str(i)+\" \"+df['Dato'][i])\n",
    "    plt.ylabel(\"Movimientos netos en millones de dolares\")\n",
    "    plt.xlabel(\"Trimestres (1999-2020)\")\n",
    "    a = df['Dato'][i].replace(\" \", \"_\" ).replace(\".\", \"\").replace(\"/\", \"\"). replace(\"(-)\", \"\").replace(\"(A+B)\", \"\")\n",
    "    plt.savefig(\"/mnt/c/Users/rober/OneDrive/Documentos/economica/imagenes/\"+str(i)+\"_\"+a+\".png\")\n"
   ]
  },
  {
   "cell_type": "code",
   "execution_count": 36,
   "metadata": {},
   "outputs": [
    {
     "name": "stdout",
     "output_type": "stream",
     "text": [
      "97\n"
     ]
    }
   ],
   "source": [
    "trimestres = list(df.columns[1:89])\n",
    "print(len(df))"
   ]
  }
 ],
 "metadata": {
  "kernelspec": {
   "display_name": "Python 3",
   "language": "python",
   "name": "python3"
  },
  "language_info": {
   "codemirror_mode": {
    "name": "ipython",
    "version": 3
   },
   "file_extension": ".py",
   "mimetype": "text/x-python",
   "name": "python",
   "nbconvert_exporter": "python",
   "pygments_lexer": "ipython3",
   "version": "3.8.2"
  }
 },
 "nbformat": 4,
 "nbformat_minor": 4
}
